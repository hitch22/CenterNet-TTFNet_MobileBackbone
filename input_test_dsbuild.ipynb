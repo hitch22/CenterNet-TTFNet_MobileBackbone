{
 "cells": [
  {
   "cell_type": "code",
   "execution_count": null,
   "metadata": {},
   "outputs": [],
   "source": [
    "from model.ModelBuilder import ModelBuilder\n",
    "\n",
    "import tensorflow as tf\n",
    "import os\n",
    "import json\n",
    "import matplotlib.pyplot as plt\n",
    "import cv2\n",
    "import numpy as np\n",
    "\n",
    "from utils_train.Datagenerator import Dataset_COCO"
   ]
  },
  {
   "cell_type": "code",
   "execution_count": null,
   "metadata": {},
   "outputs": [],
   "source": [
    "modelName = \"MobileNetV3_FPN_CenterNet\"\n",
    "#modelName = \"MobileDet_PFH_SSD\"\n",
    "\n",
    "model_dir = \"checkpoints/\"\n",
    "modelPart = modelName.split(\"_\")\n",
    "\n",
    "with open(os.path.join(\"model\", \"0_Config\", modelName+\".json\"), \"r\") as config_file:\n",
    "    config = json.load(config_file)\n",
    "\n",
    "config['modelName'] = modelName\n",
    "config['training_config']['num_classes'] = 80\n",
    "model = ModelBuilder(config = config)"
   ]
  },
  {
   "cell_type": "code",
   "execution_count": null,
   "metadata": {},
   "outputs": [],
   "source": [
    "train_dataset = Dataset_COCO(config, mode = 'bboxtest')"
   ]
  },
  {
   "cell_type": "code",
   "execution_count": null,
   "metadata": {},
   "outputs": [],
   "source": [
    "b=0\n",
    "\n",
    "for sample in train_dataset.dataset:\n",
    "    break\n",
    "\n",
    "image = sample[0]\n",
    "heatmap = sample[1][..., :80]\n",
    "bbox_reg = sample[1][..., 80:84]\n",
    "rW = sample[1][..., 84:85]\n",
    "\n",
    "\n",
    "original_img=image.numpy()\n",
    "bbox_gt = sample[2]\n",
    "classes = sample[3]"
   ]
  },
  {
   "cell_type": "code",
   "execution_count": null,
   "metadata": {},
   "outputs": [],
   "source": [
    "colors = np.random.rand(80, 3)*255\n",
    "for bbox, cls in zip(bbox_gt, classes):\n",
    "    y1, x1, y2, x2 = bbox\n",
    "    x1 = int(x1*original_img.shape[1])\n",
    "    x2 = int(x2*original_img.shape[1])\n",
    "    y1 = int(y1*original_img.shape[0])\n",
    "    y2 = int(y2*original_img.shape[0])\n",
    "\n",
    "    _text = '{}'.format(int(cls.numpy()))\n",
    "    cv2.putText(original_img, _text, (x1,y1+10), cv2.FONT_HERSHEY_COMPLEX, 0.5, colors[int(cls.numpy())], thickness=1, lineType=cv2.LINE_AA)\n",
    "    cv2.rectangle(original_img, (x1, y1), (x2, y2), (colors[int(cls.numpy())]), 1)\n",
    "\n",
    "plt.figure(figsize=(8,8))\n",
    "plt.imshow(cv2.resize(original_img/255.0, [640, 640]))\n",
    "\n",
    "plt.figure(figsize=(8,8))\n",
    "plt.imshow(tf.reduce_max(heatmap, -1))"
   ]
  },
  {
   "cell_type": "code",
   "execution_count": null,
   "metadata": {},
   "outputs": [],
   "source": [
    "asdasd"
   ]
  },
  {
   "cell_type": "code",
   "execution_count": null,
   "metadata": {},
   "outputs": [],
   "source": [
    "batch, height, width, cat = tf.shape(heatmap)\n",
    "scores = tf.reshape(heatmap, (batch, -1))\n",
    "topk_scores, topk_inds = tf.nn.top_k(scores, k=100)\n",
    "\n",
    "topk_clses = topk_inds % cat\n",
    "topk_xs = tf.cast(topk_inds // cat % width, tf.float32)\n",
    "topk_ys = tf.cast(topk_inds // cat // width, tf.float32)\n",
    "topk_inds = tf.cast(topk_ys * tf.cast(width, tf.float32) + topk_xs, tf.int32)"
   ]
  },
  {
   "cell_type": "code",
   "execution_count": null,
   "metadata": {},
   "outputs": [],
   "source": [
    "topk_clses"
   ]
  },
  {
   "cell_type": "code",
   "execution_count": null,
   "metadata": {},
   "outputs": [],
   "source": []
  }
 ],
 "metadata": {
  "kernelspec": {
   "display_name": "Python 3.10.0 ('w1')",
   "language": "python",
   "name": "python3"
  },
  "language_info": {
   "codemirror_mode": {
    "name": "ipython",
    "version": 3
   },
   "file_extension": ".py",
   "mimetype": "text/x-python",
   "name": "python",
   "nbconvert_exporter": "python",
   "pygments_lexer": "ipython3",
   "version": "3.10.0"
  },
  "orig_nbformat": 4,
  "vscode": {
   "interpreter": {
    "hash": "edd95acf9ab06b1ecf423b431b914fca015df3a9e640117d0d3acee71022bc47"
   }
  }
 },
 "nbformat": 4,
 "nbformat_minor": 2
}
