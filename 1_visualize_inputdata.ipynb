{
 "cells": [
  {
   "cell_type": "code",
   "execution_count": null,
   "metadata": {},
   "outputs": [],
   "source": [
    "import numpy as np\n",
    "import tensorflow as tf\n",
    "\n",
    "import os\n",
    "import json\n",
    "import tensorflow_datasets as tfds\n",
    "import matplotlib.pyplot as plt\n",
    "import matplotlib.cm as cm\n",
    "\n",
    "import cv2\n",
    "from utils_train.Datagenerator import Dataset_COCO, Dataset_Pascal, Dataset_COCO_Temp"
   ]
  },
  {
   "cell_type": "code",
   "execution_count": null,
   "metadata": {},
   "outputs": [],
   "source": [
    "modelName = \"MobileNetV3_FPN_TTFNet\"\n",
    "\n",
    "model_dir = \"checkpoints/\"\n",
    "modelPart = modelName.split(\"_\")\n",
    "\n",
    "with open(os.path.join(\"model\", \"0_Config\", modelName+\".json\"), \"r\") as config_file:\n",
    "    config = json.load(config_file)\n",
    "\n",
    "config['modelName'] = modelName\n",
    "config['training_config']['num_classes'] = 80\n",
    "\n",
    "\n",
    "train_dataset = Dataset_COCO(config, mode = 'train')\n",
    "\n",
    "for data in train_dataset.dataset:\n",
    "    break\n",
    "\n",
    "batch_idx = 0\n",
    "image = data[0][batch_idx, ...]\n",
    "hm  = data[1][batch_idx][..., :80]\n",
    "box  = data[1][batch_idx][..., 80:84]\n",
    "rW  = data[1][batch_idx][..., 84:85]"
   ]
  },
  {
   "cell_type": "code",
   "execution_count": null,
   "metadata": {},
   "outputs": [],
   "source": [
    "plt.figure(figsize=(12,12))\n",
    "plt.imshow((image.numpy()+1)/2)\n",
    "\n",
    "plt.figure(figsize=(12,12))\n",
    "plt.imshow(tf.reduce_max(hm, -1).numpy(), cmap='viridis')\n",
    "\n",
    "plt.figure(figsize=(12,12))\n",
    "box_np = box.numpy()\n",
    "plt.imshow(box_np)\n",
    "\n",
    "plt.figure(figsize=(12,12))\n",
    "rW_show = rW.numpy()\n",
    "plt.imshow(rW_show)\n",
    "\n",
    "a1 = tf.cast(hm==1, tf.float32)\n",
    "print(\"Num of Positives: \", tf.reduce_sum(a1))"
   ]
  },
  {
   "cell_type": "code",
   "execution_count": null,
   "metadata": {},
   "outputs": [],
   "source": [
    "print(\"TP1: \", tf.reduce_max(box_np).numpy(), tf.reduce_min(box_np).numpy())\n",
    "print(\"TP2: \", tf.reduce_max(hm).numpy(), tf.reduce_min(hm).numpy())"
   ]
  },
  {
   "cell_type": "code",
   "execution_count": null,
   "metadata": {},
   "outputs": [],
   "source": []
  }
 ],
 "metadata": {
  "kernelspec": {
   "display_name": "Python 3.10.0 ('w1')",
   "language": "python",
   "name": "python3"
  },
  "language_info": {
   "codemirror_mode": {
    "name": "ipython",
    "version": 3
   },
   "file_extension": ".py",
   "mimetype": "text/x-python",
   "name": "python",
   "nbconvert_exporter": "python",
   "pygments_lexer": "ipython3",
   "version": "3.10.4"
  },
  "orig_nbformat": 4,
  "vscode": {
   "interpreter": {
    "hash": "edd95acf9ab06b1ecf423b431b914fca015df3a9e640117d0d3acee71022bc47"
   }
  }
 },
 "nbformat": 4,
 "nbformat_minor": 2
}
