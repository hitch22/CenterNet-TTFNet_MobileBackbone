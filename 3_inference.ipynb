{
 "cells": [
  {
   "cell_type": "code",
   "execution_count": null,
   "metadata": {},
   "outputs": [],
   "source": [
    "import tensorflow as tf\n",
    "import os\n",
    "import json\n",
    "import cv2\n",
    "import numpy as np\n",
    "import matplotlib.pyplot as plt\n",
    "\n",
    "from model.ModelBuilder import ModelBuilder\n",
    "\n",
    "import tensorflow_datasets as tfds"
   ]
  },
  {
   "cell_type": "code",
   "execution_count": null,
   "metadata": {},
   "outputs": [],
   "source": [
    "modelName = \"MobileNetV3_FPN_TTFNet\"\n",
    "    \n",
    "\n",
    "model_dir = \"checkpoints/\"\n",
    "modelPart = modelName.split(\"_\")\n",
    "\n",
    "with open(os.path.join(\"model\", \"0_Config\", modelName+\".json\"), \"r\") as config_file:\n",
    "    config = json.load(config_file)\n",
    "\n",
    "config['modelName'] = modelName\n",
    "config['training_config']['num_classes'] = 80\n",
    "\n",
    "model = ModelBuilder(config)\n",
    "model.load_weights(\"logs/MobileNetV3_FPN_TTFNet/weights/_epoch300_mAP0.231\").expect_partial()"
   ]
  },
  {
   "cell_type": "code",
   "execution_count": null,
   "metadata": {},
   "outputs": [],
   "source": [
    "[test_dataset], dataset_info = tfds.load(name=\"coco/2017\", split=[\"validation\"], with_info=True)\n",
    "\n",
    "labelMap_Func = dataset_info.features[\"objects\"][\"label\"].int2str\n",
    "colors = np.random.rand(80, 3)*255\n",
    "score_threshold = 0.3\n",
    "numPic = 5\n",
    "\n",
    "for sample in test_dataset.take(numPic):\n",
    "    plt.figure(figsize=(12,12))\n",
    "    orignal_image = sample['image'].numpy()\n",
    "    input_img = np.expand_dims(cv2.resize(orignal_image/127.5 -1, dsize = (320, 320)), 0)\n",
    "    \n",
    "    ground_truth = sample['objects']['bbox']\n",
    "    detections = model.predict(input_img)[0]\n",
    "    \n",
    "    bbox_preds = detections[:, :4]\n",
    "    cls_preds = detections[:, 4]\n",
    "    scores_preds = detections[:, 5]\n",
    "    score_mask = scores_preds > score_threshold\n",
    "    \n",
    "    bbox_preds = tf.boolean_mask(bbox_preds, score_mask)\n",
    "    cls_preds = tf.boolean_mask(cls_preds, score_mask)\n",
    "    scores_preds = tf.boolean_mask(scores_preds, score_mask)\n",
    "\n",
    "    for bbox, cls, score in zip(bbox_preds, cls_preds, scores_preds):\n",
    "        y1, x1, y2, x2 = bbox\n",
    "        x1 = int(x1*orignal_image.shape[1])\n",
    "        x2 = int(x2*orignal_image.shape[1])\n",
    "        y1 = int(y1*orignal_image.shape[0])\n",
    "        y2 = int(y2*orignal_image.shape[0])\n",
    "        _text = '{}_{:.2f}'.format(labelMap_Func(int(cls.numpy())), score)\n",
    "        cv2.rectangle(orignal_image, (x1, y1), (x2, y2), colors[int(cls.numpy())], 1)\n",
    "        cv2.putText(orignal_image, _text, (x1,y1+5), cv2.FONT_HERSHEY_COMPLEX, 0.5, colors[int(cls.numpy())], thickness=1, lineType=cv2.LINE_AA)\n",
    "\n",
    "    plt.imshow(orignal_image)"
   ]
  },
  {
   "cell_type": "code",
   "execution_count": null,
   "metadata": {},
   "outputs": [],
   "source": []
  }
 ],
 "metadata": {
  "kernelspec": {
   "display_name": "Python 3.10.4 ('w1')",
   "language": "python",
   "name": "python3"
  },
  "language_info": {
   "codemirror_mode": {
    "name": "ipython",
    "version": 3
   },
   "file_extension": ".py",
   "mimetype": "text/x-python",
   "name": "python",
   "nbconvert_exporter": "python",
   "pygments_lexer": "ipython3",
   "version": "3.10.4"
  },
  "orig_nbformat": 4,
  "vscode": {
   "interpreter": {
    "hash": "edd95acf9ab06b1ecf423b431b914fca015df3a9e640117d0d3acee71022bc47"
   }
  }
 },
 "nbformat": 4,
 "nbformat_minor": 2
}
